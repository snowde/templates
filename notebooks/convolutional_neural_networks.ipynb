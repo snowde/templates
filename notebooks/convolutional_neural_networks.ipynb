{
 "cells": [
  {
   "cell_type": "markdown",
   "metadata": {},
   "source": [
    "## Convolutional Neural Networks: MNIST classification with Keras\n",
    "\n",
    "(this is an annotated version of Keras's [example MNIST CNN code](https://github.com/fchollet/keras/blob/master/examples/mnist_cnn.py))\n",
    "\n",
    "The MNIST classification task is a classic machine learning benchmark. The data includes 70,000 handwritten grayscale digits, and the task is to identify them. The digits run from 0 to 9 so this is a multiclass classification problem. In particular, there are 10 possible classes.\n",
    "\n",
    "The MNIST classification task is sort of like a \"hello world\" for computer vision, so a solution can be implemented quickly with an off-the-shelf machine learning library.\n",
    "\n",
    "Since convolutional neural networks have thusfar proven to be the best at computer vision tasks, we'll use the Keras library to implement a convolutional neural net as our solution. Keras provides a well-designed and readable API on top of both Theano and TensorFlow fast backends, so we'll be done in a surprisingly short amount of steps!\n",
    "\n",
    "Because MNIST is such a common task, the dataset is included with many machine learning libraries. With Keras, you can load the dataset with just a couple of lines:"
   ]
  },
  {
   "cell_type": "code",
   "execution_count": 2,
   "metadata": {
    "collapsed": false
   },
   "outputs": [
    {
     "name": "stderr",
     "output_type": "stream",
     "text": [
      "Using Theano backend.\n",
      "Using gpu device 0: GeForce GTX 980 Ti (CNMeM is disabled, cuDNN not available)\n"
     ]
    },
    {
     "data": {
      "text/plain": [
       "(60000, 10000, 28, 28)"
      ]
     },
     "execution_count": 2,
     "metadata": {},
     "output_type": "execute_result"
    }
   ],
   "source": [
    "from keras.datasets import mnist\n",
    "(X_train, y_train), (X_test, y_test) = mnist.load_data()\n",
    "\n",
    "n_train, height, width = X_train.shape\n",
    "n_test, _, _ = X_test.shape\n",
    "\n",
    "n_train, n_test, height, width"
   ]
  },
  {
   "cell_type": "markdown",
   "metadata": {},
   "source": [
    "We have 60,000 28x28 training grayscale images and 10,000 28x28 test grayscale images.\n",
    "\n",
    "Some preprocessing steps are required to get the data into the proper form for the convolutional net."
   ]
  },
  {
   "cell_type": "code",
   "execution_count": 3,
   "metadata": {
    "collapsed": true
   },
   "outputs": [],
   "source": [
    "from keras.utils.np_utils import to_categorical\n",
    "\n",
    "# we have to preprocess the data into the right form\n",
    "X_train = X_train.reshape(n_train, 1, height, width).astype('float32')\n",
    "X_test = X_test.reshape(n_test, 1, height, width).astype('float32')\n",
    "\n",
    "# normalize from [0, 255] to [0, 1]\n",
    "X_train /= 255\n",
    "X_test /= 255\n",
    "\n",
    "# numbers 0-9, so ten classes\n",
    "n_classes = 10\n",
    "\n",
    "y_train = to_categorical(y_train, n_classes)\n",
    "y_test = to_categorical(y_test, n_classes)"
   ]
  },
  {
   "cell_type": "markdown",
   "metadata": {},
   "source": [
    "Keras makes it very easy to define a neural network. We first instantiate a sequential Keras model, meaning the components of the model come one after the other - e.g. layer by layer."
   ]
  },
  {
   "cell_type": "code",
   "execution_count": 4,
   "metadata": {
    "collapsed": true
   },
   "outputs": [],
   "source": [
    "from keras.models import Sequential\n",
    "model = Sequential()"
   ]
  },
  {
   "cell_type": "markdown",
   "metadata": {},
   "source": [
    "The general architecture of a convolutional neural network is:\n",
    "\n",
    "- convolution layers, followed by pooling layers\n",
    "- fully-connected layers\n",
    "- a final fully-connected softmax layer\n",
    "\n",
    "We'll follow this same basic structure and interweave some other components, such as dropout, to improve performance.\n",
    "\n",
    "To begin, we start with our convolution layers. We first need to specify some architecture hyperparemeters:\n",
    "\n",
    "- _How many filters do we want for our convolution layers?_ Like most hyperparameters, this is chosen through a mix of intuition and tuning. A rough rule of thumb is: the more complex the task, the more filters. (Note that we don't need to have the same number of filters for each convolution layer, but we are doing so here for convenience.)\n",
    "- _What size should our convolution filters be?_ We don't want filters to be too large or the resulting matrix might not be very meaningful. For instance, a useless filter size in this task would be a 28x28 filter since it covers the whole image. We also don't want filters to be too small for a similar reason, e.g. a 1x1 filter just returns each pixel.\n",
    "- _What size should our pooling window be?_ Again, we don't want pooling windows to be too large or we'll be throwing away information. However, for larger images, a larger pooling window might be appropriate (same goes for convolution filters)."
   ]
  },
  {
   "cell_type": "code",
   "execution_count": 5,
   "metadata": {
    "collapsed": true
   },
   "outputs": [],
   "source": [
    "# number of convolutional filters\n",
    "n_filters = 32\n",
    "\n",
    "# convolution filter size\n",
    "# i.e. we will use a n_conv x n_conv filter\n",
    "n_conv = 3\n",
    "\n",
    "# pooling window size\n",
    "# i.e. we will use a n_pool x n_pool pooling window\n",
    "n_pool = 2"
   ]
  },
  {
   "cell_type": "markdown",
   "metadata": {},
   "source": [
    "Now we can begin adding our convolution and pooling layers.\n",
    "\n",
    "We're using only two convolutiona layers because this is a relatively simple task. Generally for more complex tasks you may want more convolution layers to extract higher and higher level features.\n",
    "\n",
    "For our convolution activation functions we use ReLU, which is common and effective.\n",
    "\n",
    "The particular pooling layer we're using is a max pooling layer, which can be thought of as a \"feature detector\"."
   ]
  },
  {
   "cell_type": "code",
   "execution_count": 6,
   "metadata": {
    "collapsed": true
   },
   "outputs": [],
   "source": [
    "from keras.layers import Activation\n",
    "from keras.layers.convolutional import Convolution2D, MaxPooling2D\n",
    "\n",
    "model.add(Convolution2D(\n",
    "        n_filters, n_conv, n_conv,\n",
    "\n",
    "        # apply the filter to only full parts of the image\n",
    "        # (i.e. do not \"spill over\" the border)\n",
    "        # this is called a narrow convolution\n",
    "        border_mode='valid',\n",
    "\n",
    "        # we have a 28x28 single channel (grayscale) image\n",
    "        # so the input shape should be (1, 28, 28)\n",
    "        input_shape=(1, height, width)\n",
    "))\n",
    "model.add(Activation('relu'))\n",
    "\n",
    "model.add(Convolution2D(n_filters, n_conv, n_conv))\n",
    "model.add(Activation('relu'))\n",
    "\n",
    "# then we apply pooling to summarize the features\n",
    "# extracted thus far\n",
    "model.add(MaxPooling2D(pool_size=(n_pool, n_pool)))"
   ]
  },
  {
   "cell_type": "markdown",
   "metadata": {},
   "source": [
    "Then we can add dropout and our dense and output (softmax) layers."
   ]
  },
  {
   "cell_type": "code",
   "execution_count": 7,
   "metadata": {
    "collapsed": true
   },
   "outputs": [],
   "source": [
    "from keras.layers import Dropout, Flatten, Dense\n",
    "\n",
    "model.add(Dropout(0.25))\n",
    "\n",
    "# flatten the data for the 1D layers\n",
    "model.add(Flatten())\n",
    "\n",
    "# Dense(n_outputs)\n",
    "model.add(Dense(128))\n",
    "model.add(Activation('relu'))\n",
    "model.add(Dropout(0.5))\n",
    "\n",
    "# the softmax output layer gives us a probablity for each class\n",
    "model.add(Dense(n_classes))\n",
    "model.add(Activation('softmax'))"
   ]
  },
  {
   "cell_type": "markdown",
   "metadata": {},
   "source": [
    "We tell Keras to compile the model using whatever backend we have configured (Theano or TensorFlow). At this stage we specify the loss function we want to optimize. Here we're using categorical cross-entropy, which is the standard loss function for multiclass classification.\n",
    "\n",
    "We also specify the particular optimization method we want to use. Here we're using Adam, which adapts the learning rate based on how training is going and improves the training process."
   ]
  },
  {
   "cell_type": "code",
   "execution_count": 8,
   "metadata": {
    "collapsed": true
   },
   "outputs": [],
   "source": [
    "model.compile(\n",
    "    loss='categorical_crossentropy',\n",
    "    optimizer='adam',\n",
    "    metrics=['accuracy']\n",
    ")"
   ]
  },
  {
   "cell_type": "markdown",
   "metadata": {},
   "source": [
    "Now that the model is defined and compiled, we can begin training and fit the model to our training data.\n",
    "\n",
    "Here we're training for only 10 epochs. This is plenty for this task, but for more difficult tasks, more epochs may be necessary.\n",
    "\n",
    "Training will take quite a while if you are running this on a CPU. Generally with neural networks, and especially with convolutional neural networks, you want to train on a GPU for much, much faster training times. Again, this dataset is relatively small so it won't take a terrible amount of time, but more than you might want to sit around and wait for."
   ]
  },
  {
   "cell_type": "code",
   "execution_count": null,
   "metadata": {
    "collapsed": false
   },
   "outputs": [],
   "source": [
    "# how many examples to look at during each training iteration\n",
    "batch_size = 128\n",
    "\n",
    "# how many times to run through the full set of examples\n",
    "n_epochs = 2\n",
    "\n",
    "# the training may be slow depending on your computer\n",
    "model.fit(X_train,\n",
    "          y_train,\n",
    "          batch_size=batch_size,\n",
    "          nb_epoch=n_epochs,\n",
    "          validation_data=(X_test, y_test))"
   ]
  },
  {
   "cell_type": "markdown",
   "metadata": {},
   "source": [
    "Now we can evaluate the model on the test data to get a sense of how we did."
   ]
  },
  {
   "cell_type": "code",
   "execution_count": 10,
   "metadata": {
    "collapsed": false
   },
   "outputs": [
    {
     "name": "stdout",
     "output_type": "stream",
     "text": [
      "10000/10000 [==============================] - 7s     \n",
      "('loss:', 0.027366025859864477)\n",
      "('accuracy:', 0.9929)\n"
     ]
    }
   ],
   "source": [
    "# how'd we do?\n",
    "loss, accuracy = model.evaluate(X_test, y_test)\n",
    "print('loss:', loss)\n",
    "print('accuracy:', accuracy)"
   ]
  }
 ],
 "metadata": {
  "kernelspec": {
   "display_name": "Python 2",
   "language": "python",
   "name": "python2"
  },
  "language_info": {
   "codemirror_mode": {
    "name": "ipython",
    "version": 2
   },
   "file_extension": ".py",
   "mimetype": "text/x-python",
   "name": "python",
   "nbconvert_exporter": "python",
   "pygments_lexer": "ipython2",
   "version": "2.7.11"
  }
 },
 "nbformat": 4,
 "nbformat_minor": 1
}
